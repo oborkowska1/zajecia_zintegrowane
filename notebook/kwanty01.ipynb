{
 "cells": [
  {
   "cell_type": "code",
   "execution_count": 3,
   "metadata": {},
   "outputs": [],
   "source": [
    "import sympy as sp\n",
    "import numpy as np\n",
    "from scipy.integrate import quad\n",
    "from scipy.stats import norm\n",
    "import matplotlib.pyplot as plt\n",
    "from sympy.utilities import lambdify\n",
    "from matplotlib.animation import FuncAnimation\n",
    "from IPython.display import HTML"
   ]
  },
  {
   "cell_type": "code",
   "execution_count": 4,
   "metadata": {},
   "outputs": [],
   "source": [
    "sp.init_printing()"
   ]
  },
  {
   "cell_type": "code",
   "execution_count": 5,
   "metadata": {},
   "outputs": [],
   "source": [
    "x = sp.Symbol('x', real=True)\n",
    "k = sp.Symbol('k', real=True, positive=True)\n",
    "a = sp.Symbol('a', real=True)\n",
    "m = sp.Symbol('m', real=True, positive=True)\n",
    "t = sp.Symbol('t', real=True, positive=True)\n",
    "h = sp.Symbol('hbar', real=True, positive=True)\n",
    "n = sp.Symbol('n', integer=True, nonzero=True)\n",
    "psi = sp.Function('psi')\n",
    "\n",
    "x, k, a, m, t, h, n, psi(x)"
   ]
  },
  {
   "cell_type": "markdown",
   "metadata": {},
   "source": [
    "$$\\frac{d^2\\psi(x)}{dx^2} = -k^2\\psi(x)$$"
   ]
  },
  {
   "cell_type": "code",
   "execution_count": null,
   "metadata": {},
   "outputs": [
    {
     "ename": "NameError",
     "evalue": "name 'psi' is not defined",
     "output_type": "error",
     "traceback": [
      "\u001b[1;31m---------------------------------------------------------------------------\u001b[0m",
      "\u001b[1;31mNameError\u001b[0m                                 Traceback (most recent call last)",
      "Cell \u001b[1;32mIn[1], line 1\u001b[0m\n\u001b[1;32m----> 1\u001b[0m \u001b[43mpsi\u001b[49m(x)\u001b[38;5;241m.\u001b[39mdiff(x, x)\n",
      "\u001b[1;31mNameError\u001b[0m: name 'psi' is not defined"
     ]
    }
   ],
   "source": [
    "psi(x).diff(x, x)"
   ]
  },
  {
   "cell_type": "code",
   "execution_count": null,
   "metadata": {},
   "outputs": [],
   "source": [
    "-k**2 * psi(x)"
   ]
  },
  {
   "cell_type": "code",
   "execution_count": null,
   "metadata": {},
   "outputs": [],
   "source": [
    "eq = sp.Eq(psi(x).diff(x, x), -k**2 * psi(x))\n",
    "eq"
   ]
  },
  {
   "cell_type": "code",
   "execution_count": null,
   "metadata": {},
   "outputs": [],
   "source": [
    "sp.dsolve(eq, psi(x))"
   ]
  },
  {
   "cell_type": "code",
   "execution_count": null,
   "metadata": {},
   "outputs": [],
   "source": [
    "sp.dsolve(eq, psi(x), ics={psi(0): 0, psi(a): 0})"
   ]
  },
  {
   "cell_type": "code",
   "execution_count": null,
   "metadata": {},
   "outputs": [],
   "source": [
    "sol = sp.dsolve(eq, psi(x), ics={psi(0): 0})\n",
    "sol"
   ]
  },
  {
   "cell_type": "code",
   "execution_count": null,
   "metadata": {},
   "outputs": [],
   "source": [
    "plt.hlines(np.arange(1, 10)**2, 0, 1)"
   ]
  },
  {
   "cell_type": "code",
   "execution_count": null,
   "metadata": {},
   "outputs": [],
   "source": [
    "sol = sol.subs(k, n * sp.pi / a)\n",
    "sol"
   ]
  },
  {
   "cell_type": "code",
   "execution_count": null,
   "metadata": {},
   "outputs": [],
   "source": [
    "sol.lhs, sol.rhs"
   ]
  },
  {
   "cell_type": "code",
   "execution_count": null,
   "metadata": {},
   "outputs": [],
   "source": [
    "sp.Abs(sol.rhs)**2"
   ]
  },
  {
   "cell_type": "code",
   "execution_count": null,
   "metadata": {},
   "outputs": [],
   "source": [
    "sp.integrate(sol.rhs**2, (x, 0, a))"
   ]
  },
  {
   "cell_type": "code",
   "execution_count": null,
   "metadata": {},
   "outputs": [],
   "source": [
    "sol = sol.subs(sp.Symbol('C1'), sp.sqrt(2 / a))\n",
    "sol"
   ]
  },
  {
   "cell_type": "code",
   "execution_count": null,
   "metadata": {},
   "outputs": [],
   "source": [
    "En = n**2 * sp.pi**2 * h**2 / (2 * m * a**2)\n",
    "En"
   ]
  },
  {
   "cell_type": "code",
   "execution_count": null,
   "metadata": {},
   "outputs": [],
   "source": [
    "phi = sp.exp(-sp.I * En * t / h)\n",
    "phi"
   ]
  },
  {
   "cell_type": "code",
   "execution_count": null,
   "metadata": {},
   "outputs": [],
   "source": [
    "Psi = sol.rhs * phi\n",
    "Psi"
   ]
  },
  {
   "cell_type": "code",
   "execution_count": null,
   "metadata": {},
   "outputs": [],
   "source": [
    "Psif = lambdify((x, t, n), Psi.subs({a: 1, m: 1, h: 1}))\n",
    "Psif"
   ]
  },
  {
   "cell_type": "code",
   "execution_count": null,
   "metadata": {},
   "outputs": [],
   "source": [
    "Psif(0.3, 2.3, 1)"
   ]
  },
  {
   "cell_type": "code",
   "execution_count": null,
   "metadata": {},
   "outputs": [],
   "source": [
    "xs = np.linspace(0, 1, 1000)\n",
    "\n",
    "plt.grid(linestyle='--')\n",
    "\n",
    "ys = Psif(xs, 0, 1).real\n",
    "plt.plot(xs, ys)\n",
    "\n",
    "ys = Psif(xs, 0, 2).real\n",
    "plt.plot(xs, ys)\n",
    "\n",
    "ys = Psif(xs, 0, 3).real\n",
    "plt.plot(xs, ys)"
   ]
  },
  {
   "cell_type": "code",
   "execution_count": null,
   "metadata": {},
   "outputs": [],
   "source": [
    "n = 3\n",
    "\n",
    "xs = np.linspace(0, 1, 1000)\n",
    "\n",
    "fig = plt.figure()\n",
    "\n",
    "plt.xlim(0, 1)\n",
    "plt.ylim(-1.5, 1.5)\n",
    "\n",
    "plot1, = plt.plot([], [])\n",
    "plot2, = plt.plot([], [])\n",
    "\n",
    "plt.close()\n",
    "\n",
    "dt = 0.001\n",
    "\n",
    "def frame(i):\n",
    "    ys = Psif(xs, i * dt, n)\n",
    "\n",
    "    plot1.set_data(xs, ys.real)\n",
    "    plot2.set_data(xs, ys.imag)\n",
    "\n",
    "    return plot1, plot2\n",
    "\n",
    "anim = FuncAnimation(fig, frame, frames=300, interval=20, blit=True)\n",
    "HTML(anim.to_jshtml())"
   ]
  },
  {
   "cell_type": "code",
   "execution_count": null,
   "metadata": {},
   "outputs": [],
   "source": [
    "n = 2\n",
    "\n",
    "xs = np.linspace(0, 1, 1000)\n",
    "\n",
    "fig = plt.figure()\n",
    "\n",
    "plt.xlim(0, 1)\n",
    "plt.ylim(0, 3)\n",
    "\n",
    "plot1, = plt.plot([], [])\n",
    "\n",
    "\n",
    "plt.close()\n",
    "\n",
    "dt = 0.001\n",
    "\n",
    "def frame(i):\n",
    "    ys = Psif(xs, i * dt, n)\n",
    "\n",
    "    plot1.set_data(xs, np.abs(ys)**2)\n",
    "\n",
    "    return plot1,\n",
    "\n",
    "anim = FuncAnimation(fig, frame, frames=300, interval=20, blit=True)\n",
    "HTML(anim.to_jshtml())"
   ]
  },
  {
   "cell_type": "code",
   "execution_count": null,
   "metadata": {},
   "outputs": [],
   "source": [
    "xs = np.linspace(0, 1, 1000)\n",
    "\n",
    "fig = plt.figure()\n",
    "\n",
    "plt.xlim(0, 1)\n",
    "plt.ylim(0, 4)\n",
    "\n",
    "plot1, = plt.plot([], [])\n",
    "\n",
    "\n",
    "plt.close()\n",
    "\n",
    "dt = 0.001\n",
    "\n",
    "def frame(i):\n",
    "    ys = (1 * Psif(xs, i * dt, 1) + 1 * Psif(xs, i * dt, 2) + Psif(xs, i * dt, 3) + Psif(xs, i * dt, 4)) / np.sqrt(1**2 + 1**2 + 1**2 + 1**2)\n",
    "\n",
    "    plot1.set_data(xs, np.abs(ys)**2)\n",
    "\n",
    "    return plot1,\n",
    "\n",
    "anim = FuncAnimation(fig, frame, frames=600, interval=20, blit=True)\n",
    "HTML(anim.to_jshtml())"
   ]
  },
  {
   "cell_type": "markdown",
   "metadata": {},
   "source": [
    "$$<\\omega>=\\int \\Psi^{*} \\hat{\\omega} \\Psi\\ dx$$\n",
    "W stanie stacjonarnym\n",
    "$$<\\omega>=\\int \\psi^{*} \\hat{\\omega} \\psi\\ dx$$\n",
    "\n",
    "$$\\hat{x}=x$$"
   ]
  },
  {
   "cell_type": "code",
   "execution_count": null,
   "metadata": {},
   "outputs": [],
   "source": [
    "sol.rhs * x * sol.rhs"
   ]
  },
  {
   "cell_type": "code",
   "execution_count": null,
   "metadata": {},
   "outputs": [],
   "source": [
    "sp.integrate(sol.rhs * x * sol.rhs, (x, 0, a)).simplify()"
   ]
  },
  {
   "cell_type": "code",
   "execution_count": null,
   "metadata": {},
   "outputs": [],
   "source": [
    "sp.integrate(sol.rhs * x**2 * sol.rhs, (x, 0, a)).simplify()"
   ]
  },
  {
   "cell_type": "markdown",
   "metadata": {},
   "source": [
    "$$\\sigma_X^2=<x^2>-<x>^2$$"
   ]
  },
  {
   "cell_type": "markdown",
   "metadata": {},
   "source": [
    "$$<p>=?$$\n",
    "$$<p^2>=?$$\n",
    "$$\\sigma_P^2=?$$\n",
    "\n",
    "$$\\sigma_X \\sigma_P \\geq \\frac{\\hbar}{2}$$\n",
    "\n",
    "Spradzić, czy ta zasada nieoznaczoności jest faktycznie dla tej studni potencjału spełniona."
   ]
  },
  {
   "cell_type": "markdown",
   "metadata": {},
   "source": [
    "Wartość średnia położenia:"
   ]
  },
  {
   "cell_type": "code",
   "execution_count": null,
   "metadata": {},
   "outputs": [
    {
     "ename": "NameError",
     "evalue": "name 'sp' is not defined",
     "output_type": "error",
     "traceback": [
      "\u001b[1;31m---------------------------------------------------------------------------\u001b[0m",
      "\u001b[1;31mNameError\u001b[0m                                 Traceback (most recent call last)",
      "Cell \u001b[1;32mIn[11], line 1\u001b[0m\n\u001b[1;32m----> 1\u001b[0m X \u001b[38;5;241m=\u001b[39m \u001b[43msp\u001b[49m\u001b[38;5;241m.\u001b[39mintegrate(sol\u001b[38;5;241m.\u001b[39mrhs \u001b[38;5;241m*\u001b[39m x \u001b[38;5;241m*\u001b[39m sol\u001b[38;5;241m.\u001b[39mrhs, (x, \u001b[38;5;241m0\u001b[39m, a))\u001b[38;5;241m.\u001b[39msimplify()\n\u001b[0;32m      2\u001b[0m \u001b[38;5;28mprint\u001b[39m(\u001b[38;5;124m\"\u001b[39m\u001b[38;5;124mWartość oczekiwana operatora położenia:\u001b[39m\u001b[38;5;124m\"\u001b[39m) \n\u001b[0;32m      3\u001b[0m X\n",
      "\u001b[1;31mNameError\u001b[0m: name 'sp' is not defined"
     ]
    }
   ],
   "source": [
    "X = sp.integrate(sol.rhs * x * sol.rhs, (x, 0, a)).simplify()\n",
    "X\n"
   ]
  },
  {
   "cell_type": "markdown",
   "metadata": {},
   "source": [
    "Wartość średnia kwadratu położenia:"
   ]
  },
  {
   "cell_type": "code",
   "execution_count": null,
   "metadata": {},
   "outputs": [],
   "source": [
    "X2 = sp.integrate(sol.rhs * x**2 * sol.rhs, (x, 0, a)).simplify()\n",
    "X2"
   ]
  },
  {
   "cell_type": "markdown",
   "metadata": {},
   "source": [
    "Odchylenie standardowe położenia:"
   ]
  },
  {
   "cell_type": "code",
   "execution_count": null,
   "metadata": {},
   "outputs": [
    {
     "ename": "NameError",
     "evalue": "name 'sp' is not defined",
     "output_type": "error",
     "traceback": [
      "\u001b[1;31m---------------------------------------------------------------------------\u001b[0m",
      "\u001b[1;31mNameError\u001b[0m                                 Traceback (most recent call last)",
      "Cell \u001b[1;32mIn[12], line 1\u001b[0m\n\u001b[1;32m----> 1\u001b[0m sigma_x \u001b[38;5;241m=\u001b[39m \u001b[43msp\u001b[49m\u001b[38;5;241m.\u001b[39msqrt(sp\u001b[38;5;241m.\u001b[39mintegrate(sol\u001b[38;5;241m.\u001b[39mrhs \u001b[38;5;241m*\u001b[39m x\u001b[38;5;241m*\u001b[39m\u001b[38;5;241m*\u001b[39m\u001b[38;5;241m2\u001b[39m \u001b[38;5;241m*\u001b[39m sol\u001b[38;5;241m.\u001b[39mrhs, (x, \u001b[38;5;241m0\u001b[39m, a))\u001b[38;5;241m.\u001b[39msimplify()\u001b[38;5;241m-\u001b[39m(sp\u001b[38;5;241m.\u001b[39mintegrate(sol\u001b[38;5;241m.\u001b[39mrhs \u001b[38;5;241m*\u001b[39m x \u001b[38;5;241m*\u001b[39m sol\u001b[38;5;241m.\u001b[39mrhs, (x, \u001b[38;5;241m0\u001b[39m, a))\u001b[38;5;241m.\u001b[39msimplify())\u001b[38;5;241m*\u001b[39m\u001b[38;5;241m*\u001b[39m\u001b[38;5;241m2\u001b[39m)\n\u001b[0;32m      2\u001b[0m sigma_x\n",
      "\u001b[1;31mNameError\u001b[0m: name 'sp' is not defined"
     ]
    }
   ],
   "source": [
    "sigma_x = sp.sqrt(sp.integrate(sol.rhs * x**2 * sol.rhs, (x, 0, a)).simplify()-(sp.integrate(sol.rhs * x * sol.rhs, (x, 0, a)).simplify())**2)\n",
    "sigma_x"
   ]
  },
  {
   "cell_type": "markdown",
   "metadata": {},
   "source": [
    "Wartość średnia pędu:"
   ]
  },
  {
   "cell_type": "code",
   "execution_count": null,
   "metadata": {},
   "outputs": [
    {
     "ename": "NameError",
     "evalue": "name 'sp' is not defined",
     "output_type": "error",
     "traceback": [
      "\u001b[1;31m---------------------------------------------------------------------------\u001b[0m",
      "\u001b[1;31mNameError\u001b[0m                                 Traceback (most recent call last)",
      "Cell \u001b[1;32mIn[8], line 1\u001b[0m\n\u001b[1;32m----> 1\u001b[0m P1 \u001b[38;5;241m=\u001b[39m \u001b[43msp\u001b[49m\u001b[38;5;241m.\u001b[39mintegrate(sol\u001b[38;5;241m.\u001b[39mrhs \u001b[38;5;241m*\u001b[39m (\u001b[38;5;241m-\u001b[39mhbar\u001b[38;5;241m*\u001b[39m\u001b[38;5;28mcomplex\u001b[39m(\u001b[38;5;241m0\u001b[39m,\u001b[38;5;241m1\u001b[39m)) \u001b[38;5;241m*\u001b[39m sol\u001b[38;5;241m.\u001b[39mrhs\u001b[38;5;241m.\u001b[39mdiff(x), (x, \u001b[38;5;241m0\u001b[39m, a))\u001b[38;5;241m.\u001b[39msimplify() \n\u001b[0;32m      2\u001b[0m P1\n",
      "\u001b[1;31mNameError\u001b[0m: name 'sp' is not defined"
     ]
    }
   ],
   "source": [
    "P = sp.integrate(sol.rhs * (-hbar*complex(0,1)) * sol.rhs.diff(x), (x, 0, a)).simplify() \n",
    "P"
   ]
  },
  {
   "cell_type": "markdown",
   "metadata": {},
   "source": [
    "Wartość średnia kwadratu pędu:"
   ]
  },
  {
   "cell_type": "code",
   "execution_count": null,
   "metadata": {},
   "outputs": [
    {
     "ename": "NameError",
     "evalue": "name 'sp' is not defined",
     "output_type": "error",
     "traceback": [
      "\u001b[1;31m---------------------------------------------------------------------------\u001b[0m",
      "\u001b[1;31mNameError\u001b[0m                                 Traceback (most recent call last)",
      "Cell \u001b[1;32mIn[9], line 1\u001b[0m\n\u001b[1;32m----> 1\u001b[0m p2 \u001b[38;5;241m=\u001b[39m \u001b[43msp\u001b[49m\u001b[38;5;241m.\u001b[39mintegrate(sol\u001b[38;5;241m.\u001b[39mrhs \u001b[38;5;241m*\u001b[39m (\u001b[38;5;241m-\u001b[39mhbar\u001b[38;5;241m*\u001b[39m\u001b[38;5;241m*\u001b[39m\u001b[38;5;241m2\u001b[39m) \u001b[38;5;241m*\u001b[39m sol\u001b[38;5;241m.\u001b[39mrhs\u001b[38;5;241m.\u001b[39mdiff(x), (x, \u001b[38;5;241m0\u001b[39m, a))\u001b[38;5;241m.\u001b[39msimplify() \n\u001b[0;32m      2\u001b[0m P2\n",
      "\u001b[1;31mNameError\u001b[0m: name 'sp' is not defined"
     ]
    }
   ],
   "source": [
    "p2 = sp.integrate(sol.rhs * (-hbar**2) * sol.rhs.diff(x), (x, 0, a)).simplify() \n",
    "P2"
   ]
  },
  {
   "cell_type": "markdown",
   "metadata": {},
   "source": [
    "Odchylenie standardowe pędu:"
   ]
  },
  {
   "cell_type": "code",
   "execution_count": null,
   "metadata": {},
   "outputs": [
    {
     "ename": "NameError",
     "evalue": "name 'sp' is not defined",
     "output_type": "error",
     "traceback": [
      "\u001b[1;31m---------------------------------------------------------------------------\u001b[0m",
      "\u001b[1;31mNameError\u001b[0m                                 Traceback (most recent call last)",
      "Cell \u001b[1;32mIn[13], line 1\u001b[0m\n\u001b[1;32m----> 1\u001b[0m sigma_p \u001b[38;5;241m=\u001b[39m \u001b[43msp\u001b[49m\u001b[38;5;241m.\u001b[39msqrt(p_2\u001b[38;5;241m-\u001b[39mp\u001b[38;5;241m*\u001b[39m\u001b[38;5;241m*\u001b[39m\u001b[38;5;241m2\u001b[39m)\u001b[38;5;241m.\u001b[39msimplify()\n\u001b[0;32m      2\u001b[0m sigma_p\n",
      "\u001b[1;31mNameError\u001b[0m: name 'sp' is not defined"
     ]
    }
   ],
   "source": [
    "sigma_p = sp.sqrt(p_2-p**2).simplify()\n",
    "sigma_p"
   ]
  },
  {
   "cell_type": "markdown",
   "metadata": {},
   "source": [
    "Nierówność Heisenberga:"
   ]
  },
  {
   "cell_type": "code",
   "execution_count": null,
   "metadata": {},
   "outputs": [
    {
     "ename": "NameError",
     "evalue": "name 'sigma_x' is not defined",
     "output_type": "error",
     "traceback": [
      "\u001b[1;31m---------------------------------------------------------------------------\u001b[0m",
      "\u001b[1;31mNameError\u001b[0m                                 Traceback (most recent call last)",
      "Cell \u001b[1;32mIn[14], line 1\u001b[0m\n\u001b[1;32m----> 1\u001b[0m sigma \u001b[38;5;241m=\u001b[39m (\u001b[43msigma_x\u001b[49m\u001b[38;5;241m*\u001b[39msigma_p)\u001b[38;5;241m.\u001b[39msimplify()\n\u001b[0;32m      2\u001b[0m sigma\n",
      "\u001b[1;31mNameError\u001b[0m: name 'sigma_x' is not defined"
     ]
    }
   ],
   "source": [
    "sigma = (sigma_x*sigma_p).simplify()\n",
    "sigma"
   ]
  },
  {
   "cell_type": "code",
   "execution_count": null,
   "metadata": {},
   "outputs": [],
   "source": [
    "nmin = h*sp.sqrt(3*sp.pi**2-18)/6\n",
    "nmin.evalf()\n",
    "nmin2 = h/2\n",
    "nmin2"
   ]
  },
  {
   "cell_type": "code",
   "execution_count": null,
   "metadata": {},
   "outputs": [],
   "source": [
    "if(nmin.evalf()>nmin2):\n",
    "    print(\"Nierowność Heisenberga spełniona\")"
   ]
  }
 ],
 "metadata": {
  "kernelspec": {
   "display_name": "fogt-integra-2023-CXMDHbKH-py3.10",
   "language": "python",
   "name": "python3"
  },
  "language_info": {
   "codemirror_mode": {
    "name": "ipython",
    "version": 3
   },
   "file_extension": ".py",
   "mimetype": "text/x-python",
   "name": "python",
   "nbconvert_exporter": "python",
   "pygments_lexer": "ipython3",
   "version": "3.11.0"
  }
 },
 "nbformat": 4,
 "nbformat_minor": 2
}
